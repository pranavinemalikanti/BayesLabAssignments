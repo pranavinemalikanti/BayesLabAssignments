{
  "nbformat": 4,
  "nbformat_minor": 0,
  "metadata": {
    "colab": {
      "provenance": [],
      "authorship_tag": "ABX9TyMDhZnMK6RrsbKvzEZqWTUW",
      "include_colab_link": true
    },
    "kernelspec": {
      "name": "python3",
      "display_name": "Python 3"
    },
    "language_info": {
      "name": "python"
    }
  },
  "cells": [
    {
      "cell_type": "markdown",
      "metadata": {
        "id": "view-in-github",
        "colab_type": "text"
      },
      "source": [
        "<a href=\"https://colab.research.google.com/github/pranavinemalikanti/BayesLabAssignments/blob/main/Copy_of_MLConcepts_Day2.ipynb\" target=\"_parent\"><img src=\"https://colab.research.google.com/assets/colab-badge.svg\" alt=\"Open In Colab\"/></a>"
      ]
    },
    {
      "cell_type": "code",
      "execution_count": null,
      "metadata": {
        "id": "_5IN-ySEF9uH"
      },
      "outputs": [],
      "source": [
        "import numpy as np\n",
        "import pandas as pd\n",
        "import matplotlib.pyplot as plt\n",
        "import seaborn as sns\n",
        "from sklearn.linear_model import LogisticRegression\n",
        "from sklearn.metrics import accuracy_score, confusion_matrix, classification_report\n",
        "from sklearn.model_selection import train_test_split\n",
        "from sklearn.datasets import load_iris\n",
        "from ipywidgets import interact, widgets\n",
        "\n",
        "# Ensure visuals are inline\n",
        "%matplotlib inline\n"
      ]
    },
    {
      "cell_type": "markdown",
      "source": [
        "# Section 1: Introduction to Logistic Regression\n"
      ],
      "metadata": {
        "id": "gH8AqHBl8Cbl"
      }
    },
    {
      "cell_type": "markdown",
      "source": [
        "#### **What is Logistic Regression?**\n",
        "---\n",
        "\n",
        "\n",
        "##### Imagine This:\n",
        "\n",
        "You're trying to predict if a student will pass an exam. The answer is either **Yes (1)** or **No (0)**. You can't draw a straight line like in Linear Regression because the output is not continuousÃƒÂ¢Ã¢â€šÂ¬Ã¢â‚¬Âit's a yes or no.\n",
        "\n",
        "That's where **Logistic Regression** comes in. It's used for **classification** problems.\n",
        "\n",
        "\n",
        "\n",
        "##### Key Idea:\n",
        "Instead of predicting a number, Logistic Regression predicts a **probability**. This probability is then converted into a class (0 or 1).\n",
        "\n",
        "- **Probability > 0.5?** Predict 1 (Yes)\n",
        "- **Probability ÃƒÂ¢Ã¢â‚¬Â°Ã‚Â¤ 0.5?** Predict 0 (No)\n",
        "\n",
        "\n",
        "\n",
        "##### The Sigmoid Function\n",
        "This is the magic formula that converts numbers into probabilities:\n",
        "\n",
        "$$\n",
        "ÃƒÅ½Ã‚Â£(Z) = \\frac{1}{1 + e^{-z}}\n",
        "$$\n",
        "\n",
        "\n",
        "Where:\n",
        "- $$\n",
        "  z = w ÃƒÂ¢Ã¢â‚¬Â¹Ã¢â‚¬Â¦ x + b\n",
        "  $$\n",
        "  (like the line equation in linear regression)\n",
        "  \n",
        "- ÃƒÂ°Ã‚ÂÃ¢â€žÂ¢Ã…Â¡ is Euler's number (about 2.718)\n",
        "\n",
        "- ÃƒÅ½Ã‚Â£(z) outputs values between 0 and 1 (probabilities!)\n"
      ],
      "metadata": {
        "id": "8QLNDJjU8I9d"
      }
    },
    {
      "cell_type": "markdown",
      "source": [
        "# Section 2: Visualizing the Sigmoid Function"
      ],
      "metadata": {
        "id": "1bBoI0GY-isv"
      }
    },
    {
      "cell_type": "code",
      "source": [
        "def sigmoid(z):\n",
        "    return 1 / (1 + np.exp(-z))"
      ],
      "metadata": {
        "id": "6jcCeSyn8BTN"
      },
      "execution_count": null,
      "outputs": []
    },
    {
      "cell_type": "code",
      "source": [
        "# Plotting the Sigmoid Curve\n",
        "z = np.linspace(-10, 10, 100)\n",
        "s = sigmoid(z)\n",
        "\n",
        "plt.figure(figsize=(8, 5))\n",
        "plt.plot(z, s, color='red')\n",
        "plt.title('Sigmoid Function', fontsize=14)\n",
        "plt.xlabel('z')\n",
        "plt.ylabel('Sigmoid(z)')\n",
        "plt.grid()\n",
        "plt.show()"
      ],
      "metadata": {
        "id": "OPMVRk7P-oeL"
      },
      "execution_count": null,
      "outputs": []
    },
    {
      "cell_type": "code",
      "source": [
        "# --- Interactive Visualization ---\n",
        "def interactive_sigmoid(weight=1.0, bias=0.0):\n",
        "    z = np.linspace(-10, 10, 100)\n",
        "    s = sigmoid(weight * z + bias)\n",
        "    plt.figure(figsize=(8, 5))\n",
        "    plt.plot(z, s, color='blue')\n",
        "    plt.title(f'Sigmoid Function (Weight={weight}, Bias={bias})')\n",
        "    plt.xlabel('z')\n",
        "    plt.ylabel('Sigmoid(z)')\n",
        "    plt.grid()\n",
        "    plt.show()\n",
        "\n",
        "interact(interactive_sigmoid, weight=(-5.0, 5.0, 0.1), bias=(-5.0, 5.0, 0.1))"
      ],
      "metadata": {
        "id": "y6pzyBPU-qRS"
      },
      "execution_count": null,
      "outputs": []
    },
    {
      "cell_type": "markdown",
      "source": [
        "# Section 3: Binary Classification with Logistic Regression"
      ],
      "metadata": {
        "id": "cZPW0QJO_BtT"
      }
    },
    {
      "cell_type": "markdown",
      "source": [
        "#### **Example: Predicting if a Student Passes**\n",
        "\n",
        "- **Features (X):** Hours Studied\n",
        "- **Target (y):** Pass (1) or Fail (0)\n",
        "\n",
        "Let's create a simple dataset."
      ],
      "metadata": {
        "id": "2hZFgzmi_Esv"
      }
    },
    {
      "cell_type": "code",
      "source": [
        "# Sample Data\n",
        "np.random.seed(0)\n",
        "hours = np.random.randint(1, 10, 20)\n",
        "pass_fail = (hours + np.random.randn(20) > 5).astype(int)"
      ],
      "metadata": {
        "id": "R3zs5DLm-sEI"
      },
      "execution_count": null,
      "outputs": []
    },
    {
      "cell_type": "code",
      "source": [
        "# Data Visualization\n",
        "plt.figure(figsize=(8, 5))\n",
        "plt.scatter(hours, pass_fail, color='purple', s=100, alpha=0.7)\n",
        "plt.xlabel('Hours Studied')\n",
        "plt.ylabel('Pass (1) / Fail (0)')\n",
        "plt.title('Pass/Fail Based on Study Hours')\n",
        "plt.grid()\n",
        "plt.show()"
      ],
      "metadata": {
        "id": "7SQJQ5IfALhq"
      },
      "execution_count": null,
      "outputs": []
    },
    {
      "cell_type": "code",
      "source": [
        "# Model Training\n",
        "X = hours.reshape(-1, 1)\n",
        "y = pass_fail\n",
        "\n",
        "log_reg = LogisticRegression()\n",
        "log_reg.fit(X, y)"
      ],
      "metadata": {
        "id": "acJa1rB2ANBf"
      },
      "execution_count": null,
      "outputs": []
    },
    {
      "cell_type": "code",
      "source": [
        "# Predictions\n",
        "y_pred = log_reg.predict(X)"
      ],
      "metadata": {
        "id": "17_xfDruAOZX"
      },
      "execution_count": null,
      "outputs": []
    },
    {
      "cell_type": "code",
      "source": [
        "# Evaluation\n",
        "print(\"Accuracy:\", accuracy_score(y, y_pred))\n",
        "print(\"\\nClassification Report:\\n\", classification_report(y, y_pred))"
      ],
      "metadata": {
        "id": "PvCLIaQ_AXfn"
      },
      "execution_count": null,
      "outputs": []
    },
    {
      "cell_type": "code",
      "source": [
        "# Decision Boundary Visualization\n",
        "x_range = np.linspace(0, 10, 100).reshape(-1, 1)\n",
        "probabilities = log_reg.predict_proba(x_range)[:, 1]\n",
        "\n",
        "plt.figure(figsize=(8, 5))\n",
        "plt.scatter(hours, pass_fail, color='purple', s=100, alpha=0.7, label='Data')\n",
        "plt.plot(x_range, probabilities, color='green', label='Sigmoid Curve')\n",
        "plt.axhline(0.5, color='red', linestyle='--', label='Decision Boundary (0.5)')\n",
        "plt.xlabel('Hours Studied')\n",
        "plt.ylabel('Probability of Passing')\n",
        "plt.title('Logistic Regression: Decision Boundary')\n",
        "plt.legend()\n",
        "plt.grid()\n",
        "plt.show()"
      ],
      "metadata": {
        "id": "hW7jCn1lAY2B"
      },
      "execution_count": null,
      "outputs": []
    },
    {
      "cell_type": "markdown",
      "source": [
        "# Section 4: Multiclass Classification with Logistic Regression\n"
      ],
      "metadata": {
        "id": "-ONjGdePAv_f"
      }
    },
    {
      "cell_type": "markdown",
      "source": [
        "#### **Example: Classifying Iris Flowers**\n",
        "We'll classify Iris flowers into three species:\n",
        "- Setosa\n",
        "- Versicolor\n",
        "- Virginica\n"
      ],
      "metadata": {
        "id": "NjW7lY8qA0Vm"
      }
    },
    {
      "cell_type": "code",
      "source": [
        "# Load Iris Dataset\n",
        "iris = load_iris()\n",
        "X_iris = iris.data[:, :2]  # Using two features for visualization\n",
        "y_iris = iris.target"
      ],
      "metadata": {
        "id": "wUDoFGYBAaLl"
      },
      "execution_count": null,
      "outputs": []
    },
    {
      "cell_type": "code",
      "source": [
        "# Train-Test Split\n",
        "X_train, X_test, y_train, y_test = train_test_split(X_iris, y_iris, test_size=0.2, random_state=42)"
      ],
      "metadata": {
        "id": "DjpqCZK4A7kx"
      },
      "execution_count": null,
      "outputs": []
    },
    {
      "cell_type": "code",
      "source": [
        "# Model Training\n",
        "log_reg_multi = LogisticRegression(multi_class='ovr')\n",
        "log_reg_multi.fit(X_train, y_train)"
      ],
      "metadata": {
        "id": "zIehb2ghA8lo"
      },
      "execution_count": null,
      "outputs": []
    },
    {
      "cell_type": "code",
      "source": [
        "# Predictions\n",
        "y_pred_multi = log_reg_multi.predict(X_test)\n",
        "print(y_pred_multi)"
      ],
      "metadata": {
        "id": "N0Zd1rksA91U"
      },
      "execution_count": null,
      "outputs": []
    },
    {
      "cell_type": "code",
      "source": [
        "# Evaluation\n",
        "print(\"Accuracy:\", accuracy_score(y_test, y_pred_multi))\n",
        "print(\"\\nClassification Report:\\n\", classification_report(y_test, y_pred_multi))\n"
      ],
      "metadata": {
        "id": "-2TzEt2wA_F2"
      },
      "execution_count": null,
      "outputs": []
    },
    {
      "cell_type": "code",
      "source": [
        "# Visualization\n",
        "plt.figure(figsize=(8, 5))\n",
        "plt.scatter(X_test[:, 0], X_test[:, 1], c=y_pred_multi, cmap='viridis', edgecolors='k')\n",
        "plt.xlabel(iris.feature_names[0])\n",
        "plt.ylabel(iris.feature_names[1])\n",
        "plt.title('Multiclass Classification with Logistic Regression')\n",
        "plt.grid()\n",
        "plt.show()"
      ],
      "metadata": {
        "id": "IaO9aAwVBBPQ"
      },
      "execution_count": null,
      "outputs": []
    },
    {
      "cell_type": "markdown",
      "source": [
        "## **Section 5: Assignments**"
      ],
      "metadata": {
        "id": "NLrLMTf7VJUk"
      }
    },
    {
      "cell_type": "markdown",
      "source": [
        "### Beginner Assignment: Predicting Pass/Fail Based on Study Hours\n",
        "\n",
        "Task:\n",
        "- Use Logistic Regression to predict if a student will pass based on study hours.\n",
        "- Visualize the data and decision boundary.\n",
        "- Using real world data from kaggle\n",
        "\n",
        "**Hint:** Use a kaggle dataset and modify the code."
      ],
      "metadata": {
        "id": "VfxVrfUFVOGI"
      }
    },
    {
      "cell_type": "code",
      "source": [
        "import kagglehub\n",
        "\n",
        "# Download latest version\n",
        "path = kagglehub.dataset_download(\"mrsimple07/student-exam-performance-prediction\")\n",
        "\n",
        "print(\"Path to dataset files:\", path)"
      ],
      "metadata": {
        "id": "T7IbTytLPkue"
      },
      "execution_count": null,
      "outputs": []
    },
    {
      "cell_type": "code",
      "source": [
        "import os\n",
        "\n",
        "# Check files inside the downloaded dataset folder\n",
        "print(\"Files in dataset folder:\", os.listdir(path))"
      ],
      "metadata": {
        "id": "bv1ia7wUQ4tj"
      },
      "execution_count": null,
      "outputs": []
    },
    {
      "cell_type": "code",
      "source": [
        "csv_file_path = os.path.join(path, \"student_exam_data_new.csv\")  # Replace with the actual file name\n",
        "df = pd.read_csv(csv_file_path)\n",
        "print(df.head())  # Display first few rows"
      ],
      "metadata": {
        "id": "7vuOJ2xmR0en"
      },
      "execution_count": null,
      "outputs": []
    },
    {
      "cell_type": "code",
      "source": [
        "#remove Previous Exam Score column\n",
        "df.drop(columns = [\"Previous Exam Score\"], inplace = True)\n",
        "print(df.head())"
      ],
      "metadata": {
        "id": "A2kHqjBbS4Sn"
      },
      "execution_count": null,
      "outputs": []
    },
    {
      "cell_type": "code",
      "source": [
        "# Data Visualization\n",
        "plt.figure(figsize=(8, 5))\n",
        "plt.scatter(df['Study Hours'], df['Pass/Fail'], color='blue', s=100, alpha=0.7)\n",
        "plt.xlabel('Hours Studied')\n",
        "plt.ylabel('Pass (1) / Fail (0)')\n",
        "plt.title('Pass/Fail Based on Study Hours')\n",
        "plt.grid()\n",
        "plt.show()"
      ],
      "metadata": {
        "id": "qWoWe3BETkK2"
      },
      "execution_count": null,
      "outputs": []
    },
    {
      "cell_type": "code",
      "source": [
        "# Model Training\n",
        "X = df.drop(columns=['Study Hours'])\n",
        "y = df['Pass/Fail']\n",
        "\n",
        "X_train, X_test, y_train, y_test = train_test_split(X, y, test_size=0.2, random_state=42, stratify=y)"
      ],
      "metadata": {
        "id": "LXK_LFGsT6xT"
      },
      "execution_count": null,
      "outputs": []
    },
    {
      "cell_type": "code",
      "source": [
        "model = LogisticRegression()"
      ],
      "metadata": {
        "id": "BfKHMGNkW65e"
      },
      "execution_count": null,
      "outputs": []
    },
    {
      "cell_type": "code",
      "source": [
        "model.fit(X_train, y_train)"
      ],
      "metadata": {
        "id": "clyqGN2QXBZG"
      },
      "execution_count": null,
      "outputs": []
    },
    {
      "cell_type": "code",
      "source": [
        "y_pred = model.predict(X_test)"
      ],
      "metadata": {
        "id": "XZKY7qd_XgVL"
      },
      "execution_count": null,
      "outputs": []
    },
    {
      "cell_type": "code",
      "source": [
        "print(\"Accuracy:\", accuracy_score(y_test, y_pred))\n",
        "print(\"\\nClassification Report:\\n\", classification_report(y_test, y_pred))"
      ],
      "metadata": {
        "id": "R4Da42gzVzXT"
      },
      "execution_count": null,
      "outputs": []
    },
    {
      "cell_type": "code",
      "source": [
        "# Decision Boundary Visualization\n",
        "\n",
        "# Generate smooth X values over the study hours range\n",
        "X_range = np.linspace(X_test.min(), X_test.max(), 100).reshape(-1, 1)\n",
        "# Predict probabilities for these X values\n",
        "y_prob_range = model.predict_proba(X_range)[:, 1]\n",
        "\n",
        "plt.figure(figsize=(8, 5))\n",
        "plt.scatter(X_test, y_test, color='purple', s=100, alpha=0.7, label='Data')\n",
        "plt.plot( X_range, y_prob_range, color='blue', label='Sigmoid Curve')\n",
        "plt.axhline(0.5, color='red', linestyle='--', label='Decision Boundary (0.5)')\n",
        "plt.xlabel('Hours Studied')\n",
        "plt.ylabel('Probability of Passing')\n",
        "plt.title('Logistic Regression: Decision Boundary')\n",
        "plt.legend()\n",
        "plt.grid()\n",
        "plt.show()"
      ],
      "metadata": {
        "id": "k6kLDRQeYE0B"
      },
      "execution_count": null,
      "outputs": []
    },
    {
      "cell_type": "markdown",
      "source": [
        "### Advanced Assignment: Classifying Flowers\n",
        "\n",
        "Task:\n",
        "- Use the Iris dataset from kaggle.\n",
        "- Train Logistic Regression for multiclass classification.\n",
        "- Visualize the classification results with decision boundaries.\n",
        "\n",
        "**Hint:** Experiment with different features and observe how performance changes.\n"
      ],
      "metadata": {
        "id": "-kRTpKasVWEX"
      }
    },
    {
      "cell_type": "code",
      "source": [
        "path = kagglehub.dataset_download(\"himanshunakrani/iris-dataset\")\n",
        "print(\"Path to dataset files:\", path)"
      ],
      "metadata": {
        "id": "PVkt4dVIbJ-4"
      },
      "execution_count": null,
      "outputs": []
    },
    {
      "cell_type": "code",
      "source": [
        "print(os.listdir(path))"
      ],
      "metadata": {
        "id": "0DTm1bLwbxS-"
      },
      "execution_count": null,
      "outputs": []
    },
    {
      "cell_type": "code",
      "source": [
        "csv_file_path = os.path.join(path, \"iris.csv\")  # Replace with the actual file name\n",
        "df = pd.read_csv(csv_file_path)\n",
        "print(df.head())"
      ],
      "metadata": {
        "id": "b_KQJvEqbvL7"
      },
      "execution_count": null,
      "outputs": []
    },
    {
      "cell_type": "code",
      "source": [
        "X_iris = df.drop(columns=['species', 'petal_length', 'petal_width'])\n",
        "y_iris = df['species']\n",
        "X_train, X_test, y_train, y_test = train_test_split(X_iris, y_iris, test_size=0.2, random_state=42)"
      ],
      "metadata": {
        "id": "JkFeeue2cu8X"
      },
      "execution_count": null,
      "outputs": []
    },
    {
      "cell_type": "code",
      "source": [
        "model = LogisticRegression(multi_class='ovr')\n",
        "model.fit(X_train, y_train)"
      ],
      "metadata": {
        "id": "XRrJrCh5dQ0q"
      },
      "execution_count": null,
      "outputs": []
    },
    {
      "cell_type": "code",
      "source": [
        "y_pred = model.predict(X_test)"
      ],
      "metadata": {
        "id": "4U9gxW3Ddj1K"
      },
      "execution_count": null,
      "outputs": []
    },
    {
      "cell_type": "code",
      "source": [
        "print(\"Accuracy:\",accuracy_score(y_test, y_pred))\n",
        "print(\"Classification report\\n\",classification_report(y_test, y_pred))"
      ],
      "metadata": {
        "id": "2stEWMkbdsT9"
      },
      "execution_count": null,
      "outputs": []
    },
    {
      "cell_type": "code",
      "source": [
        "from sklearn.preprocessing import LabelEncoder\n",
        "\n",
        "label_encoder = LabelEncoder()\n",
        "y_numeric = label_encoder.fit_transform(y_iris)  # Convert 'setosa', 'versicolor', etc. ÃƒÂ¢Ã¢â‚¬Â Ã¢â‚¬â„¢ 0, 1, 2"
      ],
      "metadata": {
        "id": "TulP5Nmiik9V"
      },
      "execution_count": null,
      "outputs": []
    },
    {
      "cell_type": "code",
      "source": [
        "# Visualization\n",
        "plt.figure(figsize=(8, 5))\n",
        "plt.scatter(df['sepal_length'], df['sepal_width'], c=y_numeric, cmap='viridis', edgecolors='k')\n",
        "plt.xlabel('sepal length')\n",
        "plt.ylabel('sepal_width')\n",
        "plt.title('Multiclass Classification with Logistic Regression')\n",
        "plt.grid()\n",
        "plt.show()"
      ],
      "metadata": {
        "id": "0HV585LWhIIL"
      },
      "execution_count": null,
      "outputs": []
    },
    {
      "cell_type": "markdown",
      "source": [
        "## **References**"
      ],
      "metadata": {
        "id": "ZxX5OyciUFwG"
      }
    },
    {
      "cell_type": "markdown",
      "source": [
        "\n",
        "\n",
        "*   https://youtu.be/T5AoqxQFkzY?si=AeKiKwcwxm506VJz\n",
        "*   https://www.youtube.com/watch?v=nk2CQITm_eo\n",
        "*   https://www.youtube.com/watch?v=yIYKR4sgzI8\n",
        "*   Machine Learning from Andrew Ng on Coursera\n",
        "\n"
      ],
      "metadata": {
        "id": "doI0rouqUJx7"
      }
    }
  ]
}