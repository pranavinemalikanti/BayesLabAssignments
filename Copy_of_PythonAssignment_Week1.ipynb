{
  "cells": [
    {
      "cell_type": "markdown",
      "metadata": {
        "id": "view-in-github",
        "colab_type": "text"
      },
      "source": [
        "<a href=\"https://colab.research.google.com/github/pranavinemalikanti/BayesLabAssignments/blob/main/Copy_of_PythonAssignment_Week1.ipynb\" target=\"_parent\"><img src=\"https://colab.research.google.com/assets/colab-badge.svg\" alt=\"Open In Colab\"/></a>"
      ]
    },
    {
      "metadata": {
        "id": "6tgxENnLvLH7"
      },
      "cell_type": "markdown",
      "source": [
        "# Assignment - Python Basics Practice\n",
        "\n",
        "\n"
      ]
    },
    {
      "metadata": {
        "id": "1VqMdyiivLH-"
      },
      "cell_type": "markdown",
      "source": [
        "## Variables and Data Types\n",
        "\n",
        "**Q: Assign your name to the variable `name`.**"
      ]
    },
    {
      "metadata": {
        "trusted": true,
        "id": "yVIYuDDMvLH-"
      },
      "cell_type": "code",
      "source": [
        "name = \"Pranavi\""
      ],
      "execution_count": null,
      "outputs": []
    },
    {
      "metadata": {
        "id": "QeK-QA7GvLH-"
      },
      "cell_type": "markdown",
      "source": [
        "**Q: Assign your age (real or fake) to the variable `age`.**"
      ]
    },
    {
      "metadata": {
        "trusted": true,
        "id": "axuBC-y6vLH_"
      },
      "cell_type": "code",
      "source": [
        "age = 4"
      ],
      "execution_count": null,
      "outputs": []
    },
    {
      "metadata": {
        "id": "okMEWXHwvLH_"
      },
      "cell_type": "markdown",
      "source": [
        "**Q: Assign a boolean value to the variable `has_android_phone`.**"
      ]
    },
    {
      "metadata": {
        "trusted": true,
        "id": "Y6HA_IVGvLH_"
      },
      "cell_type": "code",
      "source": [
        "has_android_phone = True"
      ],
      "execution_count": null,
      "outputs": []
    },
    {
      "metadata": {
        "id": "QfC_6aXfvLIA"
      },
      "cell_type": "markdown",
      "source": [
        "**Q: Create a dictionary `person` with keys `\"Name\"`, `\"Age\"`, `\"HasAndroidPhone\"` and values using the variables defined above.**"
      ]
    },
    {
      "metadata": {
        "trusted": true,
        "id": "VdNLm3L5vLIA"
      },
      "cell_type": "code",
      "source": [
        "person = {\"Name\": name, \"Age\": age, \"HasAndroidPhone\": has_android_phone}"
      ],
      "execution_count": null,
      "outputs": []
    },
    {
      "metadata": {
        "id": "ytlWYVM7vLIA"
      },
      "cell_type": "markdown",
      "source": [
        "Let's use the `person` dictionary to print a nice message."
      ]
    },
    {
      "metadata": {
        "trusted": true,
        "id": "r5sq7VvevLIA",
        "outputId": "255cbf0e-c896-4e6f-97e6-4fcc66653e55",
        "colab": {
          "base_uri": "https://localhost:8080/"
        }
      },
      "cell_type": "code",
      "source": [
        "print(\"Hey {}! You are {} years old\".format(person['Name'], person['Age']))"
      ],
      "execution_count": null,
      "outputs": [
        {
          "output_type": "stream",
          "name": "stdout",
          "text": [
            "Hey Pranavi! You are 4 years old\n"
          ]
        }
      ]
    },
    {
      "metadata": {
        "id": "HyQ9W2bGvLIB"
      },
      "cell_type": "markdown",
      "source": [
        "Use a `for` loop to display the `type` of each value stored against each key in `person`.**\n",
        "\n",
        "Here's the expected output for the key `\"Name\"`:\n",
        "\n",
        "```\n",
        "The key \"Name\" has the value \"Derek\" of the type \"<class 'str'>\"\n",
        "```"
      ]
    },
    {
      "cell_type": "code",
      "source": [
        "for key, value in person.items():\n",
        "  print('The key \"{}\" has the value \"{}\" of the type \"{}\"'.format(key,value,type(value)))"
      ],
      "metadata": {
        "id": "Yr7Qw94wo0C4",
        "outputId": "7ef5279c-0e86-4805-d250-bc3ab74e8869",
        "colab": {
          "base_uri": "https://localhost:8080/"
        }
      },
      "execution_count": null,
      "outputs": [
        {
          "output_type": "stream",
          "name": "stdout",
          "text": [
            "The key \"Name\" has the value \"Pranavi\" of the type \"<class 'str'>\"\n",
            "The key \"Age\" has the value \"4\" of the type \"<class 'int'>\"\n",
            "The key \"HasAndroidPhone\" has the value \"True\" of the type \"<class 'bool'>\"\n"
          ]
        }
      ]
    },
    {
      "metadata": {
        "id": "L5VT5-3yvLIB"
      },
      "cell_type": "markdown",
      "source": [
        "## Working with Lists\n",
        "\n",
        "**Q: Create a list containing the following 3 elements:**\n",
        "\n",
        "* your favorite color\n",
        "* the number of pets you have\n",
        "* a boolean value describing whether you have previous programming experience\n"
      ]
    },
    {
      "metadata": {
        "trusted": true,
        "id": "KKXeilefvLIB"
      },
      "cell_type": "code",
      "source": [
        "my_list = ['blue', 0, True]"
      ],
      "execution_count": null,
      "outputs": []
    },
    {
      "metadata": {
        "id": "qPMwq-6RvLIB"
      },
      "cell_type": "markdown",
      "source": [
        "Let's see what the list looks like:"
      ]
    },
    {
      "metadata": {
        "trusted": true,
        "id": "o8NZIpdVvLIB",
        "outputId": "9dbe8061-a7d5-40e1-dfa5-463c68514342",
        "colab": {
          "base_uri": "https://localhost:8080/"
        }
      },
      "cell_type": "code",
      "source": [
        "print(my_list)"
      ],
      "execution_count": null,
      "outputs": [
        {
          "output_type": "stream",
          "name": "stdout",
          "text": [
            "['blue', 0, True]\n"
          ]
        }
      ]
    },
    {
      "metadata": {
        "id": "5yhV9OtPvLIB"
      },
      "cell_type": "markdown",
      "source": [
        "**Q: Complete the following `print` and `if` statements by accessing the appropriate elements from `my_list`.**\n",
        "\n",
        "*Hint*: Use the list indexing notation `[]`."
      ]
    },
    {
      "metadata": {
        "trusted": true,
        "id": "xkkR9UObvLIB",
        "outputId": "f04cce16-7432-47dd-9ea6-d5ee2fb94114",
        "colab": {
          "base_uri": "https://localhost:8080/"
        }
      },
      "cell_type": "code",
      "source": [
        "print('My favorite color is',my_list[0])"
      ],
      "execution_count": null,
      "outputs": [
        {
          "output_type": "stream",
          "name": "stdout",
          "text": [
            "My favorite color is blue\n"
          ]
        }
      ]
    },
    {
      "metadata": {
        "trusted": true,
        "id": "wS04XOMqvLIB",
        "outputId": "a8139da7-58fe-4397-a8e9-a4b80b7a4638",
        "colab": {
          "base_uri": "https://localhost:8080/"
        }
      },
      "cell_type": "code",
      "source": [
        "print('I have {} pet(s).'.format(my_list[1]))"
      ],
      "execution_count": null,
      "outputs": [
        {
          "output_type": "stream",
          "name": "stdout",
          "text": [
            "I have 0 pet(s).\n"
          ]
        }
      ]
    },
    {
      "metadata": {
        "trusted": true,
        "id": "oj9kdoAUvLIB",
        "outputId": "d879ddf8-6477-4a0b-bd8d-4639091600f6",
        "colab": {
          "base_uri": "https://localhost:8080/"
        }
      },
      "cell_type": "code",
      "source": [
        "if my_list[2]:\n",
        "    print(\"I have previous programming experience\")\n",
        "else:\n",
        "    print(\"I do not have previous programming experience\")"
      ],
      "execution_count": null,
      "outputs": [
        {
          "output_type": "stream",
          "name": "stdout",
          "text": [
            "I have previous programming experience\n"
          ]
        }
      ]
    },
    {
      "metadata": {
        "id": "IBhCrzSmvLIC"
      },
      "cell_type": "markdown",
      "source": [
        "**Q: Add your favorite single digit number to the end of the list using the appropriate list method.**"
      ]
    },
    {
      "metadata": {
        "trusted": true,
        "id": "mknB7HzavLIC"
      },
      "cell_type": "code",
      "source": [
        "my_list.append(1)"
      ],
      "execution_count": null,
      "outputs": []
    },
    {
      "metadata": {
        "id": "8i7A_tYAvLIC"
      },
      "cell_type": "markdown",
      "source": [
        "Let's see if the number shows up in the list."
      ]
    },
    {
      "metadata": {
        "trusted": true,
        "id": "IOWnzL2vvLIC",
        "outputId": "043f6241-02b9-449f-a68b-0ac96776e07a",
        "colab": {
          "base_uri": "https://localhost:8080/"
        }
      },
      "cell_type": "code",
      "source": [
        "my_list"
      ],
      "execution_count": null,
      "outputs": [
        {
          "output_type": "execute_result",
          "data": {
            "text/plain": [
              "['blue', 0, True, 1]"
            ]
          },
          "metadata": {},
          "execution_count": 35
        }
      ]
    },
    {
      "metadata": {
        "id": "SWHbz8oNvLIC"
      },
      "cell_type": "markdown",
      "source": [
        "**Q: Remove the first element of the list, using the appropriate list method.**\n",
        "\n",
        "*Hint*: Check out methods of list here: https://www.w3schools.com/python/python_ref_list.asp"
      ]
    },
    {
      "metadata": {
        "trusted": true,
        "id": "ym4Y8jKgvLIC",
        "outputId": "79d6a6be-2d3b-48d3-9f20-18e424f4f318",
        "colab": {
          "base_uri": "https://localhost:8080/"
        }
      },
      "cell_type": "code",
      "source": [
        "my_list.remove(my_list[0])\n",
        "print(my_list)"
      ],
      "execution_count": null,
      "outputs": [
        {
          "output_type": "stream",
          "name": "stdout",
          "text": [
            "[0, True, 1]\n"
          ]
        }
      ]
    },
    {
      "metadata": {
        "trusted": true,
        "id": "jySrd216vLIC",
        "outputId": "1924525c-e8d5-4868-d9fd-a507470ccc11",
        "colab": {
          "base_uri": "https://localhost:8080/"
        }
      },
      "cell_type": "code",
      "source": [
        "my_list.pop(0)"
      ],
      "execution_count": null,
      "outputs": [
        {
          "output_type": "execute_result",
          "data": {
            "text/plain": [
              "0"
            ]
          },
          "metadata": {},
          "execution_count": 37
        }
      ]
    },
    {
      "metadata": {
        "id": "PoUaBIy6vLIC"
      },
      "cell_type": "markdown",
      "source": [
        "**Q: Complete the `print` statement below to display the number of elements in `my_list`.**"
      ]
    },
    {
      "metadata": {
        "trusted": true,
        "id": "dNKqXe-OvLIC",
        "outputId": "11e16442-7b6b-496d-9311-0bc4e1a8df0b",
        "colab": {
          "base_uri": "https://localhost:8080/"
        }
      },
      "cell_type": "code",
      "source": [
        "print(my_list)"
      ],
      "execution_count": null,
      "outputs": [
        {
          "output_type": "stream",
          "name": "stdout",
          "text": [
            "[True, 1]\n"
          ]
        }
      ]
    },
    {
      "metadata": {
        "id": "zxabeFFzvLIH"
      },
      "cell_type": "markdown",
      "source": [
        "## Conditions and loops\n",
        "\n",
        "**Q: Calculate and display the sum of all the numbers divisible by 7 between 18 and 534 i.e. `21+28+35+...+525+532`**.\n",
        "\n",
        "*Hint*: One way to do this is to loop over a `range` using `for` and use an `if` statement inside it."
      ]
    },
    {
      "metadata": {
        "trusted": true,
        "id": "xBYbCDgqvLIH"
      },
      "cell_type": "code",
      "source": [
        "sum_of_numbers = 0\n",
        "for i in range(18,534):\n",
        "  if i % 7 == 0:\n",
        "    sum_of_numbers += i"
      ],
      "execution_count": null,
      "outputs": []
    },
    {
      "metadata": {
        "trusted": true,
        "id": "ia99bHJhvLIH",
        "outputId": "bc520ff5-c3d9-4217-e0b1-7eb8a38661ee",
        "colab": {
          "base_uri": "https://localhost:8080/"
        }
      },
      "cell_type": "code",
      "source": [
        "print('The sum of all the numbers divisible by 7 between 18 and 534 is', sum_of_numbers)"
      ],
      "execution_count": null,
      "outputs": [
        {
          "output_type": "stream",
          "name": "stdout",
          "text": [
            "The sum of all the numbers divisible by 7 between 18 and 534 is 20461\n"
          ]
        }
      ]
    },
    {
      "cell_type": "markdown",
      "source": [
        "## Lists"
      ],
      "metadata": {
        "id": "4ViBWsq_CJR4"
      }
    },
    {
      "cell_type": "markdown",
      "source": [
        "Q1: Write a Python program that takes a list of integers as input and performs the following operations:\n",
        "\n",
        "Remove all duplicates from the list.\n",
        "\n",
        "Sort the list in descending order.\n",
        "\n",
        "Print the second largest number from the list."
      ],
      "metadata": {
        "id": "rGHhWCZKCLld"
      }
    },
    {
      "metadata": {
        "trusted": true,
        "id": "SZ82tPFVvLIL",
        "outputId": "fabe7a10-da4d-4711-903d-3edb8d938434",
        "colab": {
          "base_uri": "https://localhost:8080/"
        }
      },
      "cell_type": "code",
      "source": [
        "input_string = input(\"Enter the list of integers:\")\n",
        "input_list = list(map(int, input_string.split()))\n",
        "print(\"List: \",input_list)\n",
        "#removing duplicates\n",
        "input_list = list(set(input_list))\n",
        "print(\"After removing duplicates: \",input_list)\n",
        "#descending order sorting\n",
        "input_list.sort(reverse=True)\n",
        "print(\"Sorting in descending order: \",input_list)\n",
        "print(input_list[1])"
      ],
      "execution_count": null,
      "outputs": [
        {
          "output_type": "stream",
          "name": "stdout",
          "text": [
            "Enter the list of integers:3 3 4 5 2 2 6 4\n",
            "List:  [3, 3, 4, 5, 2, 2, 6, 4]\n",
            "After removing duplicates:  [2, 3, 4, 5, 6]\n",
            "Sorting in descending order:  [6, 5, 4, 3, 2]\n",
            "5\n"
          ]
        }
      ]
    },
    {
      "cell_type": "markdown",
      "source": [
        "## Dictionary"
      ],
      "metadata": {
        "id": "XQEcpkFdCavt"
      }
    },
    {
      "cell_type": "markdown",
      "source": [
        "Q2: Create a dictionary from two lists, one containing student names and the other containing their scores. Then, write a program to:\n",
        "\n",
        "Print the dictionary.\n",
        "\n",
        "Find the student with the highest score.\n",
        "\n",
        "Add a new student with a given score to the dictionary."
      ],
      "metadata": {
        "id": "sHTYSJczCTGB"
      }
    },
    {
      "cell_type": "code",
      "source": [
        "names = input(\"Enter student names: \").split()\n",
        "scores = input(\"Enter their scores: \").split()\n",
        "student_dict = {names[i]: scores[i] for i in range(len(names))}\n",
        "print(student_dict)\n",
        "\n",
        "#student with highest score\n",
        "print(max(student_dict.keys()))\n",
        "\n",
        "#adding a new student\n",
        "student_dict[input(\"Enter the student name:\")] = int(input(\"Enter the score of the new student:\"))\n",
        "\n",
        "print(student_dict)"
      ],
      "metadata": {
        "id": "1j5QxWp-CaPV",
        "outputId": "dc35fc1a-fe7f-48c2-a836-8c3bc67a86ba",
        "colab": {
          "base_uri": "https://localhost:8080/"
        }
      },
      "execution_count": null,
      "outputs": [
        {
          "output_type": "stream",
          "name": "stdout",
          "text": [
            "Enter student names: wee we w\n",
            "Enter their scores: 3 2 1\n",
            "{'wee': '3', 'we': '2', 'w': '1'}\n",
            "wee\n",
            "Enter the score of the new student:5\n",
            "Enter the student name:weeeeee\n",
            "{'wee': '3', 'we': '2', 'w': '1', 'weeeeee': 5}\n"
          ]
        }
      ]
    },
    {
      "cell_type": "markdown",
      "source": [
        "#Tuple"
      ],
      "metadata": {
        "id": "2hyaanCNCiIi"
      }
    },
    {
      "cell_type": "markdown",
      "source": [
        "3: Write a Python program to create a tuple from a list of integers. Then:\n",
        "\n",
        "Find the minimum, maximum, and sum of the elements in the tuple.\n",
        "\n",
        "Convert the tuple into a string and print it."
      ],
      "metadata": {
        "id": "JXCvRY60CdIC"
      }
    },
    {
      "cell_type": "code",
      "source": [
        "integer_list = list(map(int, input(\"Enter some integers: \").split()))\n",
        "integer_tuple = tuple(integer_list)\n",
        "print(\"Tuple: \",integer_tuple)\n",
        "print(\"Minimum element: \",min(integer_tuple))\n",
        "print(\"Maximum element: \",max(integer_tuple))\n",
        "print(\"Sum: \",sum(integer_tuple))\n",
        "integer_tuple = ''.join(map(str, integer_tuple))\n",
        "print(integer_tuple)"
      ],
      "metadata": {
        "id": "DuJ7X4WECjob",
        "colab": {
          "base_uri": "https://localhost:8080/"
        },
        "outputId": "104a8127-3076-4559-dd73-320669ab994c"
      },
      "execution_count": null,
      "outputs": [
        {
          "output_type": "stream",
          "name": "stdout",
          "text": [
            "Enter some integers: 16 42 589 177\n",
            "Tuple:  (16, 42, 589, 177)\n",
            "Minimum element:  16\n",
            "Maximum element:  589\n",
            "Sum:  824\n",
            "1642589177\n"
          ]
        }
      ]
    },
    {
      "cell_type": "markdown",
      "source": [
        "##Numpy"
      ],
      "metadata": {
        "id": "1kYvyW6XCzeq"
      }
    },
    {
      "cell_type": "markdown",
      "source": [
        "\n",
        "Q4: Using the NumPy library:\n",
        "\n",
        "Create a 3x3 matrix filled with random integers between 1 and 20.\n",
        "\n",
        "Replace all values greater than 10 with 0.\n",
        "\n",
        "Find the mean of the modified matrix."
      ],
      "metadata": {
        "id": "OPqNJ7fyCkAA"
      }
    },
    {
      "cell_type": "code",
      "source": [
        "import numpy as np\n",
        "matrix = np.random.randint(1, 21, (3,3))\n",
        "print(matrix)"
      ],
      "metadata": {
        "id": "nYOz4En9CxGp",
        "colab": {
          "base_uri": "https://localhost:8080/"
        },
        "outputId": "2c778069-79c5-4cb7-98ce-a6943d5d5928"
      },
      "execution_count": 5,
      "outputs": [
        {
          "output_type": "stream",
          "name": "stdout",
          "text": [
            "[[ 9 20 11]\n",
            " [18 19 20]\n",
            " [ 2  3 14]]\n"
          ]
        }
      ]
    },
    {
      "cell_type": "markdown",
      "source": [
        "## Pandas"
      ],
      "metadata": {
        "id": "8Z0UcbZXC1U0"
      }
    },
    {
      "cell_type": "markdown",
      "source": [
        "Q5: Using the Pandas library:\n",
        "\n",
        "Create a DataFrame from a dictionary where the keys are column names, and the values are lists representing data for each column.\n",
        "\n",
        "Add a new column to the DataFrame by calculating the difference between two existing columns.\n",
        "\n",
        "Drop any rows where the value in a specific column is less than 50."
      ],
      "metadata": {
        "id": "abiz20V4C1RS"
      }
    },
    {
      "cell_type": "code",
      "source": [
        "import pandas as pd\n",
        "data = {\n",
        "    \"A\": [100, 45, 23, 50, 56],\n",
        "    \"B\": [103, 43, 67, 89, 10],\n",
        "    \"C\": [30, 25, 40, 10, 90]\n",
        "}\n",
        "\n",
        "#dataframe\n",
        "df = pd.DataFrame(data)\n",
        "print(df)\n",
        "\n",
        "#adding a new column by calculating difference between two existing columns\n",
        "df[\"D\"] = df[\"A\"] - df[\"B\"]\n",
        "\n",
        "#drop rows where the value in column A is less than 50\n",
        "df_new = df[df[\"A\"] >= 50]\n",
        "\n",
        "print(df_new)"
      ],
      "metadata": {
        "id": "ah5WJvzDC7iK",
        "colab": {
          "base_uri": "https://localhost:8080/"
        },
        "outputId": "e64c5b47-f047-470f-e4ba-a591e0f32a3b"
      },
      "execution_count": 6,
      "outputs": [
        {
          "output_type": "stream",
          "name": "stdout",
          "text": [
            "     A    B   C\n",
            "0  100  103  30\n",
            "1   45   43  25\n",
            "2   23   67  40\n",
            "3   50   89  10\n",
            "4   56   10  90\n",
            "     A    B   C   D\n",
            "0  100  103  30  -3\n",
            "3   50   89  10 -39\n",
            "4   56   10  90  46\n"
          ]
        }
      ]
    },
    {
      "cell_type": "markdown",
      "source": [
        "##Exception Handling"
      ],
      "metadata": {
        "id": "VF5MTuC7C_94"
      }
    },
    {
      "cell_type": "markdown",
      "source": [
        "\n",
        "Q6: Write a Python program to perform division of two user-input numbers. Implement exception handling to:\n",
        "\n",
        "Catch the division by zero error.\n",
        "\n",
        "Catch invalid input type errors (e.g., if the user enters a string instead of a number).\n",
        "\n",
        "Ensure the program runs successfully even if an error occurs. (Hint: Add finally)"
      ],
      "metadata": {
        "id": "vLTDuZGuC_3d"
      }
    },
    {
      "cell_type": "code",
      "source": [
        "try:\n",
        "  num1 = int(input(\"Enter number1: \"))\n",
        "  num2 = int(input(\"Enter number2: \"))\n",
        "  result = num1 / num2\n",
        "except ZeroDivisionError as z:\n",
        "  print(\"Denominator should not be zero\")\n",
        "except ValueError as t:\n",
        "  print(\"Type error: Input should be an integer\")\n",
        "finally:\n",
        "  print(result)"
      ],
      "metadata": {
        "id": "ktyOho_2DHyP",
        "colab": {
          "base_uri": "https://localhost:8080/"
        },
        "outputId": "088fd34b-a6d6-4447-c527-8e2f039fd539"
      },
      "execution_count": 9,
      "outputs": [
        {
          "output_type": "stream",
          "name": "stdout",
          "text": [
            "Enter number1: 1\n",
            "Enter number2: hi\n",
            "Type error: Input should be an integer\n",
            "0.5\n"
          ]
        }
      ]
    },
    {
      "cell_type": "markdown",
      "source": [
        "## Matplotlib"
      ],
      "metadata": {
        "id": "rNyZu1w9DeTz"
      }
    },
    {
      "cell_type": "markdown",
      "source": [
        "\n",
        "Q7: Create a line chart using the Matplotlib library to display the population growth over years. The program should:\n",
        "\n",
        "Create dummy data: containing years and population values.\n",
        "\n",
        "Plot the line chart with proper labels for the x-axis, y-axis, and a title."
      ],
      "metadata": {
        "id": "Udg5GavODMuT"
      }
    },
    {
      "cell_type": "code",
      "source": [
        "import matplotlib.pyplot as plt\n",
        "years = [2000, 2005, 2010, 2015, 2020, 2025]\n",
        "population_in_billions = [2.5, 3.5, 3.8, 4.5, 5.2, 6.0]\n",
        "#line chart\n",
        "plt.figure(figsize=(8, 5))\n",
        "plt.plot(years, population_in_billions, marker='o', linestyle='-', color='b', label=\"Population Growth\")\n",
        "\n",
        "#add labels and title\n",
        "plt.xlabel(\"Year\")\n",
        "plt.ylabel(\"Population in Billions\")\n",
        "plt.title(\"Population Growth over years\")\n",
        "plt.legend()\n",
        "plt.grid(True)\n",
        "plt.show()"
      ],
      "metadata": {
        "id": "k6nTd1wRDdUg",
        "colab": {
          "base_uri": "https://localhost:8080/",
          "height": 487
        },
        "outputId": "dd15f33c-51c6-45e1-8f71-05151911a12f"
      },
      "execution_count": 10,
      "outputs": [
        {
          "output_type": "display_data",
          "data": {
            "text/plain": [
              "<Figure size 800x500 with 1 Axes>"
            ],
            "image/png": "[encoded data removed]"
          },
          "metadata": {}
        }
      ]
    },
    {
      "cell_type": "markdown",
      "source": [
        "## Seaborn"
      ],
      "metadata": {
        "id": "_W9lJpzZDxNF"
      }
    },
    {
      "cell_type": "markdown",
      "source": [
        "\n",
        "Q8: Using the Seaborn library, plot a distribution of the sepal_length column from the Iris dataset. The program should:\n",
        "\n",
        "Load the 'iris' dataset from Seaborn's sample datasets.\n",
        "Plot a KDE (Kernel Density Estimation) plot for the sepal_length column.\n",
        "Customize the plot with a title and set the color of the plot to blue.\n"
      ],
      "metadata": {
        "id": "hM12mAgqDyId"
      }
    },
    {
      "cell_type": "code",
      "source": [
        "import seaborn as sns\n",
        "\n",
        "iris = sns.load_dataset(\"iris\")\n",
        "#KDE\n",
        "plt.figure(figsize=(8,5))\n",
        "sns.kdeplot(iris[\"sepal_length\"], color=\"blue\", fill=True)\n",
        "\n",
        "#plot\n",
        "plt.title(\"Distribution of sepal length in the iris dataset\")\n",
        "plt.xlabel(\"Sepal length\")\n",
        "plt.ylabel(\"Density\")\n",
        "plt.grid(True)\n",
        "plt.show()"
      ],
      "metadata": {
        "id": "3CYknAGGDzpK",
        "colab": {
          "base_uri": "https://localhost:8080/",
          "height": 487
        },
        "outputId": "88eecaaf-ea43-4d01-91ea-d4d63d809e9a"
      },
      "execution_count": 11,
      "outputs": [
        {
          "output_type": "display_data",
          "data": {
            "text/plain": [
              "<Figure size 800x500 with 1 Axes>"
            ],
            "image/png": "[encoded data removed]"
          },
          "metadata": {}
        }
      ]
    },
    {
      "cell_type": "markdown",
      "source": [
        "## Pandas DataFrame"
      ],
      "metadata": {
        "id": "fFTydMAXD-cD"
      }
    },
    {
      "cell_type": "markdown",
      "source": [
        "\n",
        "Q9: Write a Python program to perform the following operations on the Iris dataset:\n",
        "\n",
        "Load the dataset into a Pandas DataFrame.\n",
        "\n",
        "Display the first 10 rows of the DataFrame.\n",
        "\n",
        "Group the data by the species column and calculate the mean of each numeric column for each species.\n",
        "\n",
        "Add a new column sepal_area that is the product of sepal_length and sepal_width.\n",
        "\n",
        "Filter the DataFrame to show only rows where sepal_area is greater than 20."
      ],
      "metadata": {
        "id": "nZSrcAuuD-Yt"
      }
    },
    {
      "cell_type": "code",
      "source": [
        "df = sns.load_dataset(\"iris\")\n",
        "\n",
        "#first 10 rows\n",
        "print(df.head(10))\n",
        "\n",
        "#grouping data by species column and calculate mean\n",
        "mean_of_species = df.groupby(\"species\").mean()\n",
        "print(\"Mean: \",mean_of_species)\n",
        "\n",
        "#add new column\n",
        "df[\"sepal_area\"] = df[\"sepal_length\"] * df[\"sepal_width\"]\n",
        "print(df.head(5))\n",
        "\n",
        "#display rows where sepal_area > 20\n",
        "print(df[df[\"sepal_area\"] > 20])"
      ],
      "metadata": {
        "id": "vWpR1ZA1EE5v",
        "colab": {
          "base_uri": "https://localhost:8080/"
        },
        "outputId": "1e67c584-a325-44f0-9c4c-f91d4f7af747"
      },
      "execution_count": 16,
      "outputs": [
        {
          "output_type": "stream",
          "name": "stdout",
          "text": [
            "   sepal_length  sepal_width  petal_length  petal_width species\n",
            "0           5.1          3.5           1.4          0.2  setosa\n",
            "1           4.9          3.0           1.4          0.2  setosa\n",
            "2           4.7          3.2           1.3          0.2  setosa\n",
            "3           4.6          3.1           1.5          0.2  setosa\n",
            "4           5.0          3.6           1.4          0.2  setosa\n",
            "5           5.4          3.9           1.7          0.4  setosa\n",
            "6           4.6          3.4           1.4          0.3  setosa\n",
            "7           5.0          3.4           1.5          0.2  setosa\n",
            "8           4.4          2.9           1.4          0.2  setosa\n",
            "9           4.9          3.1           1.5          0.1  setosa\n",
            "Mean:              sepal_length  sepal_width  petal_length  petal_width\n",
            "species                                                         \n",
            "setosa             5.006        3.428         1.462        0.246\n",
            "versicolor         5.936        2.770         4.260        1.326\n",
            "virginica          6.588        2.974         5.552        2.026\n",
            "   sepal_length  sepal_width  petal_length  petal_width species  sepal_area\n",
            "0           5.1          3.5           1.4          0.2  setosa       17.85\n",
            "1           4.9          3.0           1.4          0.2  setosa       14.70\n",
            "2           4.7          3.2           1.3          0.2  setosa       15.04\n",
            "3           4.6          3.1           1.5          0.2  setosa       14.26\n",
            "4           5.0          3.6           1.4          0.2  setosa       18.00\n",
            "     sepal_length  sepal_width  petal_length  petal_width     species  \\\n",
            "5             5.4          3.9           1.7          0.4      setosa   \n",
            "14            5.8          4.0           1.2          0.2      setosa   \n",
            "15            5.7          4.4           1.5          0.4      setosa   \n",
            "16            5.4          3.9           1.3          0.4      setosa   \n",
            "18            5.7          3.8           1.7          0.3      setosa   \n",
            "32            5.2          4.1           1.5          0.1      setosa   \n",
            "33            5.5          4.2           1.4          0.2      setosa   \n",
            "50            7.0          3.2           4.7          1.4  versicolor   \n",
            "51            6.4          3.2           4.5          1.5  versicolor   \n",
            "52            6.9          3.1           4.9          1.5  versicolor   \n",
            "56            6.3          3.3           4.7          1.6  versicolor   \n",
            "65            6.7          3.1           4.4          1.4  versicolor   \n",
            "77            6.7          3.0           5.0          1.7  versicolor   \n",
            "85            6.0          3.4           4.5          1.6  versicolor   \n",
            "86            6.7          3.1           4.7          1.5  versicolor   \n",
            "100           6.3          3.3           6.0          2.5   virginica   \n",
            "102           7.1          3.0           5.9          2.1   virginica   \n",
            "105           7.6          3.0           6.6          2.1   virginica   \n",
            "107           7.3          2.9           6.3          1.8   virginica   \n",
            "109           7.2          3.6           6.1          2.5   virginica   \n",
            "110           6.5          3.2           5.1          2.0   virginica   \n",
            "112           6.8          3.0           5.5          2.1   virginica   \n",
            "115           6.4          3.2           5.3          2.3   virginica   \n",
            "117           7.7          3.8           6.7          2.2   virginica   \n",
            "118           7.7          2.6           6.9          2.3   virginica   \n",
            "120           6.9          3.2           5.7          2.3   virginica   \n",
            "122           7.7          2.8           6.7          2.0   virginica   \n",
            "124           6.7          3.3           5.7          2.1   virginica   \n",
            "125           7.2          3.2           6.0          1.8   virginica   \n",
            "129           7.2          3.0           5.8          1.6   virginica   \n",
            "130           7.4          2.8           6.1          1.9   virginica   \n",
            "131           7.9          3.8           6.4          2.0   virginica   \n",
            "135           7.7          3.0           6.1          2.3   virginica   \n",
            "136           6.3          3.4           5.6          2.4   virginica   \n",
            "139           6.9          3.1           5.4          2.1   virginica   \n",
            "140           6.7          3.1           5.6          2.4   virginica   \n",
            "141           6.9          3.1           5.1          2.3   virginica   \n",
            "143           6.8          3.2           5.9          2.3   virginica   \n",
            "144           6.7          3.3           5.7          2.5   virginica   \n",
            "145           6.7          3.0           5.2          2.3   virginica   \n",
            "148           6.2          3.4           5.4          2.3   virginica   \n",
            "\n",
            "     sepal_area  \n",
            "5         21.06  \n",
            "14        23.20  \n",
            "15        25.08  \n",
            "16        21.06  \n",
            "18        21.66  \n",
            "32        21.32  \n",
            "33        23.10  \n",
            "50        22.40  \n",
            "51        20.48  \n",
            "52        21.39  \n",
            "56        20.79  \n",
            "65        20.77  \n",
            "77        20.10  \n",
            "85        20.40  \n",
            "86        20.77  \n",
            "100       20.79  \n",
            "102       21.30  \n",
            "105       22.80  \n",
            "107       21.17  \n",
            "109       25.92  \n",
            "110       20.80  \n",
            "112       20.40  \n",
            "115       20.48  \n",
            "117       29.26  \n",
            "118       20.02  \n",
            "120       22.08  \n",
            "122       21.56  \n",
            "124       22.11  \n",
            "125       23.04  \n",
            "129       21.60  \n",
            "130       20.72  \n",
            "131       30.02  \n",
            "135       23.10  \n",
            "136       21.42  \n",
            "139       21.39  \n",
            "140       20.77  \n",
            "141       21.39  \n",
            "143       21.76  \n",
            "144       22.11  \n",
            "145       20.10  \n",
            "148       21.08  \n"
          ]
        }
      ]
    },
    {
      "cell_type": "markdown",
      "source": [
        "## Functions"
      ],
      "metadata": {
        "id": "boirWrgRElAS"
      }
    },
    {
      "cell_type": "markdown",
      "source": [
        "Q10: Write a Python program that defines a function to calculate the Body Mass Index (BMI) based on a person's weight and height. The program should:\n",
        "\n",
        "Define a function calculate_bmi(weight, height) that takes the weight (in kilograms) and height (in meters) as arguments and returns the BMI.\n",
        "\n",
        "BMI = weight/(height**2)\n",
        "\n",
        "Use the function to calculate the BMI for a given weight and height input by the user.\n",
        "\n",
        "Define another function bmi_category(bmi) that takes the BMI as input and returns the BMI category:\n",
        "\n",
        "\"Underweight\" if BMI < 18.5\n",
        "\n",
        "\"Normal weight\" if 18.5 <= BMI < 24.9\n",
        "\n",
        "\"Overweight\" if 25 <= BMI < 29.9\n",
        "\n",
        "\"Obese\" if BMI >= 30\n",
        "\n",
        "(Hint; use if elif else multiple conditions)\n",
        "\n",
        "Print the calculated BMI and the corresponding category."
      ],
      "metadata": {
        "id": "Ve2MS7VKEk9C"
      }
    },
    {
      "cell_type": "code",
      "source": [
        "def calculate_bmi(weight, height):\n",
        "  BMI = weight / (height ** 2)\n",
        "  return BMI\n",
        "\n",
        "def bmi_category(bmi):\n",
        "  if bmi < 18.5:\n",
        "    return \"Underweight\"\n",
        "  elif bmi >= 18.5 and bmi < 24.9:\n",
        "    return \"Normal weight\"\n",
        "  elif bmi >= 25 and bmi < 29.9:\n",
        "    return \"Overweight\"\n",
        "  elif bmi >= 30:\n",
        "    return \"obese\"\n",
        "  else:\n",
        "    return \"nil\"\n",
        "weight = float(input(\"Enter weight(in kg): \"))\n",
        "height = float(input(\"Enter height(in mt): \"))\n",
        "bmi = calculate_bmi(weight, height)\n",
        "print(\"BMI: \",bmi)\n",
        "print(\"BMI category: \",bmi_category(bmi))"
      ],
      "metadata": {
        "colab": {
          "base_uri": "https://localhost:8080/"
        },
        "id": "miy6rH50WCn4",
        "outputId": "7e13c944-531d-47d1-d5b1-17121b425ef6"
      },
      "execution_count": 17,
      "outputs": [
        {
          "output_type": "stream",
          "name": "stdout",
          "text": [
            "Enter weight(in kg): 51.2\n",
            "Enter height(in mt): 1.55\n",
            "BMI:  21.311134235171696\n",
            "BMI category:  Normal weight\n"
          ]
        }
      ]
    },
    {
      "cell_type": "markdown",
      "source": [
        "## OOPS"
      ],
      "metadata": {
        "id": "H9q9BWZ6Li8D"
      }
    },
    {
      "cell_type": "markdown",
      "source": [
        "Problem #1: Complete the code below to calcualte volume and surface area of a cylinder"
      ],
      "metadata": {
        "id": "lGs0H00rL3RD"
      }
    },
    {
      "cell_type": "code",
      "source": [
        "class Cylinder:\n",
        "\n",
        "    def __init__(self,height=1,radius=1):\n",
        "      self.height = height\n",
        "      self.radius = radius\n",
        "\n",
        "    def volume(self):\n",
        "      volume = 3.14 * self.radius * self.radius * self.height\n",
        "      print(\"Volume of the cylinder: \",volume)\n",
        "\n",
        "    def surface_area(self):\n",
        "      csa = 2 * 3.14 * self.radius * self.height\n",
        "      print(\"Surface area of the cylinder: \",csa)"
      ],
      "metadata": {
        "id": "vk_rMP-8E31G"
      },
      "execution_count": 18,
      "outputs": []
    },
    {
      "cell_type": "code",
      "source": [
        "# EXAMPLE OUTPUT\n",
        "c = Cylinder(2,3)"
      ],
      "metadata": {
        "id": "rUZwaNMmMCF5"
      },
      "execution_count": 19,
      "outputs": []
    },
    {
      "cell_type": "code",
      "source": [
        "c.volume()"
      ],
      "metadata": {
        "id": "wQSeJ9wQMENx",
        "colab": {
          "base_uri": "https://localhost:8080/"
        },
        "outputId": "7c215980-245e-4d06-ab3c-331b54f442d5"
      },
      "execution_count": 20,
      "outputs": [
        {
          "output_type": "stream",
          "name": "stdout",
          "text": [
            "Volume of the cylinder:  56.519999999999996\n"
          ]
        }
      ]
    },
    {
      "cell_type": "code",
      "source": [
        "c.surface_area()"
      ],
      "metadata": {
        "id": "94_3vbW3MGJN",
        "colab": {
          "base_uri": "https://localhost:8080/"
        },
        "outputId": "c81ff69e-61da-4c48-d7d5-f86fb7cff389"
      },
      "execution_count": 21,
      "outputs": [
        {
          "output_type": "stream",
          "name": "stdout",
          "text": [
            "Surface area of the cylinder:  37.68\n"
          ]
        }
      ]
    },
    {
      "cell_type": "markdown",
      "source": [
        "Problem #2:\n",
        "\n",
        "- Create a bank account class that has two attributes:\n",
        "\n",
        "   - owner\n",
        "   - balance\n",
        "   \n",
        "- and two methods:\n",
        "\n",
        "   - deposit\n",
        "   - withdraw\n",
        "\n",
        "Instantiate your class, make several deposits and withdrawals, and test to make sure the account can't be overdrawn."
      ],
      "metadata": {
        "id": "VjUSspmUXvf8"
      }
    },
    {
      "cell_type": "code",
      "source": [
        "#class\n",
        "class Bank:\n",
        "  owner = \" \"\n",
        "  balance = 0\n",
        "  def __init__(self, owner, balance):\n",
        "    self.owner = owner\n",
        "    self.balance = balance\n",
        "  def deposit(self, acc2, amount):\n",
        "    if amount <= acc1.balance:\n",
        "      self.balance -= amount\n",
        "      acc2.balance += amount\n",
        "      print(\"{} deposited {} rupees to {}\".format(self.owner, amount, acc2.owner))\n",
        "    else:\n",
        "      print(\"Insufficient balance\")\n",
        "\n",
        "  def withdraw(self, amount):\n",
        "    if amount <= self.balance:\n",
        "      self.balance -= amount\n",
        "      print(\"{} rupess withdrawn, {} remaining\".format(amount, self.balance))\n",
        "    else:\n",
        "      print(\"Insufficient balance\")\n",
        "\n",
        "\n",
        "acc1 = Bank(\"ram\", 10000)\n",
        "acc2 = Bank(\"laxman\", 15000)"
      ],
      "metadata": {
        "id": "Aedl5UDEZbRI"
      },
      "execution_count": 25,
      "outputs": []
    },
    {
      "cell_type": "code",
      "source": [
        "acc1.deposit(acc2,500)"
      ],
      "metadata": {
        "colab": {
          "base_uri": "https://localhost:8080/"
        },
        "id": "Oty2zLT9bYx2",
        "outputId": "1c4ffc9b-717c-4ba5-c70b-b60b6082be6d"
      },
      "execution_count": 27,
      "outputs": [
        {
          "output_type": "stream",
          "name": "stdout",
          "text": [
            "ram deposited 500 rupees to laxman\n"
          ]
        }
      ]
    },
    {
      "cell_type": "code",
      "source": [
        "acc2.withdraw(500)"
      ],
      "metadata": {
        "colab": {
          "base_uri": "https://localhost:8080/"
        },
        "id": "9U478Mtdb6S1",
        "outputId": "1d9835a9-9023-4638-d397-1757463d5109"
      },
      "execution_count": 28,
      "outputs": [
        {
          "output_type": "stream",
          "name": "stdout",
          "text": [
            "500 rupess withdrawn, 15000 remaining\n"
          ]
        }
      ]
    },
    {
      "cell_type": "markdown",
      "source": [
        "## Decorators"
      ],
      "metadata": {
        "id": "VKDEFWpOYc5l"
      }
    },
    {
      "cell_type": "markdown",
      "source": [
        "def1. Write a Python program to create a decorator function to measure the execution time of a function.\n",
        "\n"
      ],
      "metadata": {
        "id": "SCtuWz6WZpDr"
      }
    },
    {
      "cell_type": "code",
      "source": [
        "import time\n",
        "\n",
        "def decorator_function(func):\n",
        "  def wrapper_function(*args, **kwargs):\n",
        "    start_time = time.time()\n",
        "    result = func(*args, **kwargs)\n",
        "    end_time = time.time()\n",
        "    exec_time = end_time - start_time\n",
        "    print(\"Execution Time for {}: {}\".format(func.__name__, exec_time))\n",
        "    return result\n",
        "  return wrapper_function\n",
        "\n",
        "@decorator_function\n",
        "def sum_function(n):\n",
        "  total = sum(range(n))\n",
        "  return total\n",
        "\n",
        "print(sum_function(100))"
      ],
      "metadata": {
        "id": "PbDSUEznYFG7",
        "colab": {
          "base_uri": "https://localhost:8080/"
        },
        "outputId": "d3f8d57a-1699-44fe-bd94-64e328e87b08"
      },
      "execution_count": 31,
      "outputs": [
        {
          "output_type": "stream",
          "name": "stdout",
          "text": [
            "Execution Time for sum_function: 5.4836273193359375e-06\n",
            "4950\n"
          ]
        }
      ]
    }
  ],
  "metadata": {
    "kernelspec": {
      "language": "python",
      "display_name": "Python 3",
      "name": "python3"
    },
    "language_info": {
      "pygments_lexer": "ipython3",
      "nbconvert_exporter": "python",
      "version": "3.6.4",
      "file_extension": ".py",
      "codemirror_mode": {
        "name": "ipython",
        "version": 3
      },
      "name": "python",
      "mimetype": "text/x-python"
    },
    "colab": {
      "provenance": [],
      "include_colab_link": true
    }
  },
  "nbformat": 4,
  "nbformat_minor": 0
}