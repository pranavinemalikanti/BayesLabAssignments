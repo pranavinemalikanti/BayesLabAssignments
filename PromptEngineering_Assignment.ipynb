{
  "nbformat": 4,
  "nbformat_minor": 0,
  "metadata": {
    "colab": {
      "provenance": [],
      "authorship_tag": "ABX9TyNzQ/A9I1RAby+y23eQcJoB",
      "include_colab_link": true
    },
    "kernelspec": {
      "name": "python3",
      "display_name": "Python 3"
    },
    "language_info": {
      "name": "python"
    }
  },
  "cells": [
    {
      "cell_type": "markdown",
      "metadata": {
        "id": "view-in-github",
        "colab_type": "text"
      },
      "source": [
        "<a href=\"https://colab.research.google.com/github/pranavinemalikanti/BayesLabAssignments/blob/main/PromptEngineering_Assignment.ipynb\" target=\"_parent\"><img src=\"https://colab.research.google.com/assets/colab-badge.svg\" alt=\"Open In Colab\"/></a>"
      ]
    },
    {
      "cell_type": "markdown",
      "source": [
        "# Problem Statement"
      ],
      "metadata": {
        "id": "YuYAS6MvPfcf"
      }
    },
    {
      "cell_type": "markdown",
      "source": [
        "In the current digital economy, customer reviews play a crucial role in shaping purchasing decisions and brand perceptions. However, extracting structured insights from unstructured customer feedback remains a challenge.\n",
        "\n",
        "This project aims to develop a system that automatically analyzes customer reviews to extract key elements: customer identity (name and ID), product and company details, sentiment of the customer, and specific feedback points highlighting what was good or bad about the product.\n",
        "\n",
        "The extracted information can assist companies in understanding customer satisfaction, identifying product strengths and weaknesses, and improving service quality based on real-world feedback at scale."
      ],
      "metadata": {
        "id": "Xzp9-B-IPrJW"
      }
    },
    {
      "cell_type": "markdown",
      "source": [
        "# Abstract"
      ],
      "metadata": {
        "id": "3Fn4K67KPsj8"
      }
    },
    {
      "cell_type": "markdown",
      "source": [
        "This project focuses on the automated extraction of structured information from unstructured customer reviews. The system is designed to identify and extract critical fields such as the customer’s name and ID, the product name, the associated company, the customer's overall sentiment (positive, negative, neutral, or mixed), and detailed specific feedback regarding the product's strengths and weaknesses.\n",
        "\n",
        "Different prompting strategies, including instruction-based, zero-shot, few-shot, chain-of-thought, and role-based prompting, are explored to guide a language model (LLM) in performing this extraction effectively.\n",
        "\n",
        "The final output is structured in a machine-readable format (YAML/JSON), making it easier for downstream analytics tasks. This solution aims to enhance customer experience monitoring and provide businesses with actionable insights from large volumes of customer feedback data."
      ],
      "metadata": {
        "id": "JFbbWwU9PwVl"
      }
    },
    {
      "cell_type": "markdown",
      "source": [
        "# Prompts\n"
      ],
      "metadata": {
        "id": "wueCp1SuQFyA"
      }
    },
    {
      "cell_type": "markdown",
      "source": [
        "\n",
        "Instruction-Based Prompt"
      ],
      "metadata": {
        "id": "ZJmRzrIeOUue"
      }
    },
    {
      "cell_type": "code",
      "execution_count": 5,
      "metadata": {
        "colab": {
          "base_uri": "https://localhost:8080/"
        },
        "id": "ip7lkGydIxvv",
        "outputId": "e4b9b96a-893c-4da7-e478-1d75624384d7"
      },
      "outputs": [
        {
          "output_type": "stream",
          "name": "stdout",
          "text": [
            "\n",
            "Extract the following from each customer review:\n",
            "- Customer Name\n",
            "- Customer ID\n",
            "- Product Name\n",
            "- Company Name\n",
            "- Overall Sentiment (Positive / Negative / Neutral / Mixed Positive)\n",
            "- Specific Good Points about the product\n",
            "- Specific Bad Points about the product\n",
            "\n",
            "Return the output clearly structured.\n",
            "\n"
          ]
        }
      ],
      "source": [
        "instruction_prompt = \"\"\"\n",
        "Extract the following from each customer review:\n",
        "- Customer Name\n",
        "- Customer ID\n",
        "- Product Name\n",
        "- Company Name\n",
        "- Overall Sentiment (Positive / Negative / Neutral / Mixed Positive)\n",
        "- Specific Good Points about the product\n",
        "- Specific Bad Points about the product\n",
        "\n",
        "Return the output clearly structured.\n",
        "\"\"\"\n",
        "print(instruction_prompt)"
      ]
    },
    {
      "cell_type": "markdown",
      "source": [
        "Zero-Shot Prompt"
      ],
      "metadata": {
        "id": "04jjYZecOdVL"
      }
    },
    {
      "cell_type": "code",
      "source": [
        "zero_shot_prompt = \"\"\"\n",
        "You are given a customer review. Your task is to extract:\n",
        "- Customer Name and ID\n",
        "- Product and Company\n",
        "- Sentiment\n",
        "- List of Good Points\n",
        "- List of Bad Points\n",
        "\n",
        "Be concise and specific. Format the output in YAML.\n",
        "\"\"\"\n",
        "print(zero_shot_prompt)"
      ],
      "metadata": {
        "colab": {
          "base_uri": "https://localhost:8080/"
        },
        "id": "uiIK_1TAObR0",
        "outputId": "89383d01-4995-45ac-bed1-968d69da3718"
      },
      "execution_count": 6,
      "outputs": [
        {
          "output_type": "stream",
          "name": "stdout",
          "text": [
            "\n",
            "You are given a customer review. Your task is to extract:\n",
            "- Customer Name and ID\n",
            "- Product and Company\n",
            "- Sentiment\n",
            "- List of Good Points\n",
            "- List of Bad Points\n",
            "\n",
            "Be concise and specific. Format the output in YAML.\n",
            "\n"
          ]
        }
      ]
    },
    {
      "cell_type": "markdown",
      "source": [
        "Few-Shot Prompt"
      ],
      "metadata": {
        "id": "NnqgmK4qOjjG"
      }
    },
    {
      "cell_type": "code",
      "source": [
        "few_shot_prompt = \"\"\"\n",
        "Here is an example:\n",
        "\n",
        "Review:\n",
        "\"John D. (ID#: CRM123456) loved the Galaxy Buds2 by Samsung. He praised their battery life and compact design. However, he mentioned the call quality wasn't the best.\"\n",
        "\n",
        "Extraction:\n",
        "Customer Name: John D.\n",
        "Customer ID: CRM123456\n",
        "Product: Galaxy Buds2\n",
        "Company: Samsung\n",
        "Sentiment: Positive\n",
        "Good Points:\n",
        "- Long battery life\n",
        "- Compact design\n",
        "Bad Points:\n",
        "- Poor call quality\n",
        "\n",
        "Now, do the same extraction for the given review below:\n",
        "[Insert Review Here]\n",
        "\"\"\"\n",
        "print(few_shot_prompt)"
      ],
      "metadata": {
        "colab": {
          "base_uri": "https://localhost:8080/"
        },
        "id": "nCL_CGqyOmbt",
        "outputId": "2a1e81bb-c8c4-421f-d24c-efb8700a5bc4"
      },
      "execution_count": 7,
      "outputs": [
        {
          "output_type": "stream",
          "name": "stdout",
          "text": [
            "\n",
            "Here is an example:\n",
            "\n",
            "Review:\n",
            "\"John D. (ID#: CRM123456) loved the Galaxy Buds2 by Samsung. He praised their battery life and compact design. However, he mentioned the call quality wasn't the best.\"\n",
            "\n",
            "Extraction:\n",
            "Customer Name: John D.\n",
            "Customer ID: CRM123456\n",
            "Product: Galaxy Buds2\n",
            "Company: Samsung\n",
            "Sentiment: Positive\n",
            "Good Points:\n",
            "- Long battery life\n",
            "- Compact design\n",
            "Bad Points:\n",
            "- Poor call quality\n",
            "\n",
            "Now, do the same extraction for the given review below:\n",
            "[Insert Review Here]\n",
            "\n"
          ]
        }
      ]
    },
    {
      "cell_type": "markdown",
      "source": [
        "Chain-of-Thought Prompt"
      ],
      "metadata": {
        "id": "9SvTsMM9OpS0"
      }
    },
    {
      "cell_type": "code",
      "source": [
        "chain_of_thought_prompt = \"\"\"\n",
        "Analyze the customer review step-by-step:\n",
        "First, identify the Customer Name and ID.\n",
        "Second, find the Product and Company Name.\n",
        "Third, assess the overall sentiment based on positive or negative language.\n",
        "Fourth, list specific good points.\n",
        "Fifth, list specific bad points.\n",
        "\n",
        "Output everything in a clear YAML structure.\n",
        "\"\"\"\n",
        "print(chain_of_thought_prompt)"
      ],
      "metadata": {
        "colab": {
          "base_uri": "https://localhost:8080/"
        },
        "id": "DgZ7qg0vOvvv",
        "outputId": "bd38e909-a781-4613-a513-c41ea382e005"
      },
      "execution_count": 8,
      "outputs": [
        {
          "output_type": "stream",
          "name": "stdout",
          "text": [
            "\n",
            "Analyze the customer review step-by-step:\n",
            "First, identify the Customer Name and ID.\n",
            "Second, find the Product and Company Name.\n",
            "Third, assess the overall sentiment based on positive or negative language.\n",
            "Fourth, list specific good points.\n",
            "Fifth, list specific bad points.\n",
            "\n",
            "Output everything in a clear YAML structure.\n",
            "\n"
          ]
        }
      ]
    },
    {
      "cell_type": "markdown",
      "source": [
        "Role-Based Prompt"
      ],
      "metadata": {
        "id": "UMlBzYfzO2dD"
      }
    },
    {
      "cell_type": "code",
      "source": [
        "role_based_prompt = \"\"\"\n",
        "You are an expert Review Analyst. Your job is to:\n",
        "- Extract customer identity (Name, ID)\n",
        "- Identify the product and the company\n",
        "- Judge the overall sentiment\n",
        "- Find specific compliments (good points)\n",
        "- Find specific complaints (bad points)\n",
        "\n",
        "Present your findings clearly in structured YAML format.\n",
        "\"\"\"\n",
        "print(role_based_prompt)"
      ],
      "metadata": {
        "colab": {
          "base_uri": "https://localhost:8080/"
        },
        "id": "-RUwoXGKO442",
        "outputId": "db5a0a51-6658-4c27-e9f6-d1c11549ad74"
      },
      "execution_count": 9,
      "outputs": [
        {
          "output_type": "stream",
          "name": "stdout",
          "text": [
            "\n",
            "You are an expert Review Analyst. Your job is to:\n",
            "- Extract customer identity (Name, ID)\n",
            "- Identify the product and the company\n",
            "- Judge the overall sentiment\n",
            "- Find specific compliments (good points)\n",
            "- Find specific complaints (bad points)\n",
            "\n",
            "Present your findings clearly in structured YAML format.\n",
            "\n"
          ]
        }
      ]
    }
  ]
}